{
 "cells": [
  {
   "cell_type": "markdown",
   "metadata": {},
   "source": [
    "This notebook demonstrates how to use the declutter package. The arguments differ for some of the methods for each step in order to show the range of available options. For information about the options for each method, see the wiki at https://gitlab.data.bas.ac.uk/dboyle/radar-declutter/wikis."
   ]
  },
  {
   "cell_type": "code",
   "execution_count": 1,
   "metadata": {},
   "outputs": [],
   "source": [
    "import os\n",
    "import shutil\n",
    "%matplotlib inline"
   ]
  },
  {
   "cell_type": "markdown",
   "metadata": {},
   "source": [
    "## Load a raster from arcMap  \n",
    "\n",
    "These steps convert the raster 'database/ML_DEM_merged.tif' to the file 'maps.hdf5'. The raster is in a polar stereographic coordinate system so is first projected to a UTM zone, and the arguments indicate that it should be resampled to a 10m cell size.\n",
    "\n",
    "The output directory is set as 'database' so that the projected and resampled rasters are saved there rather than in the current directory."
   ]
  },
  {
   "cell_type": "code",
   "execution_count": 2,
   "metadata": {},
   "outputs": [
    {
     "data": {
      "text/plain": [
       "'C:\\\\Users\\\\brecinos\\\\Documents\\\\ArcGIS\\\\radar-declutter\\\\docs'"
      ]
     },
     "execution_count": 2,
     "metadata": {},
     "output_type": "execute_result"
    }
   ],
   "source": [
    "os.getcwd()"
   ]
  },
  {
   "cell_type": "code",
   "execution_count": 3,
   "metadata": {},
   "outputs": [],
   "source": [
    "import sys \n",
    "\n",
    "sys.path.append('C:\\\\Users\\\\brecinos\\\\Documents\\\\ArcGIS\\\\radar-declutter\\\\')"
   ]
  },
  {
   "cell_type": "code",
   "execution_count": 4,
   "metadata": {},
   "outputs": [],
   "source": [
    "from declutter import makeArrays"
   ]
  },
  {
   "cell_type": "code",
   "execution_count": 5,
   "metadata": {},
   "outputs": [],
   "source": [
    "path_to_tiff = 'C:\\\\Users\\\\brecinos\\\\Documents\\\\ArcGIS\\\\radar-declutter\\\\docs\\\\database\\\\ML_DEM_merged.tif'\n",
    "path_to_output = os.getcwd() + '\\\\database\\\\map_1\\\\'"
   ]
  },
  {
   "cell_type": "code",
   "execution_count": 6,
   "metadata": {},
   "outputs": [
    {
     "name": "stdout",
     "output_type": "stream",
     "text": [
      "Resampling to a cell size of 10.0\n",
      "New name: C:\\Users\\brecinos\\Documents\\ArcGIS\\radar-declutter\\docs\\database\\map_1\\/resampled\n",
      "Projecting to UTM coordinate system.\n",
      "New name: C:\\Users\\brecinos\\Documents\\ArcGIS\\radar-declutter\\docs\\database\\map_1\\/projected\n"
     ]
    },
    {
     "data": {
      "text/plain": [
       "0"
      ]
     },
     "execution_count": 6,
     "metadata": {},
     "output_type": "execute_result"
    }
   ],
   "source": [
    "# Method 1\n",
    "# 78.9 and 12.0 are latitude and longitude for the grid to enable projection\n",
    "makeArrays.makeAll(path_to_tiff, 78.9, 12.0, 10.0, outDir=path_to_output)"
   ]
  },
  {
   "cell_type": "code",
   "execution_count": 8,
   "metadata": {},
   "outputs": [
    {
     "name": "stdout",
     "output_type": "stream",
     "text": [
      "Resampling to a cell size of 10.0\n",
      "New name: C:\\Users\\brecinos\\Documents\\ArcGIS\\radar-declutter\\docs\\database\\map_1\\/resampled\n",
      "Projecting to UTM coordinate system.\n",
      "New name: C:\\Users\\brecinos\\Documents\\ArcGIS\\radar-declutter\\docs\\database\\map_1\\/projected\n"
     ]
    },
    {
     "data": {
      "text/plain": [
       "0"
      ]
     },
     "execution_count": 8,
     "metadata": {},
     "output_type": "execute_result"
    }
   ],
   "source": [
    "makeArrays.justAspect(path_to_tiff, 78.9, 12.0, 10.0, outDir=path_to_output)"
   ]
  },
  {
   "cell_type": "code",
   "execution_count": 9,
   "metadata": {},
   "outputs": [
    {
     "name": "stdout",
     "output_type": "stream",
     "text": [
      "Resampling to a cell size of 10.0\n",
      "New name: C:\\Users\\brecinos\\Documents\\ArcGIS\\radar-declutter\\docs\\database\\map_1\\/resampled\n",
      "Projecting to UTM coordinate system.\n",
      "New name: C:\\Users\\brecinos\\Documents\\ArcGIS\\radar-declutter\\docs\\database\\map_1\\/projected\n"
     ]
    },
    {
     "data": {
      "text/plain": [
       "0"
      ]
     },
     "execution_count": 9,
     "metadata": {},
     "output_type": "execute_result"
    }
   ],
   "source": [
    "makeArrays.justSlope(path_to_tiff, 78.9, 12.0, 10.0, outDir=path_to_output)"
   ]
  },
  {
   "cell_type": "code",
   "execution_count": 10,
   "metadata": {},
   "outputs": [
    {
     "name": "stdout",
     "output_type": "stream",
     "text": [
      "Resampling to a cell size of 10.0\n",
      "New name: C:\\Users\\brecinos\\Documents\\ArcGIS\\radar-declutter\\docs\\database\\map_1\\/resampled\n",
      "Projecting to UTM coordinate system.\n",
      "New name: C:\\Users\\brecinos\\Documents\\ArcGIS\\radar-declutter\\docs\\database\\map_1\\/projected\n"
     ]
    },
    {
     "data": {
      "text/plain": [
       "0"
      ]
     },
     "execution_count": 10,
     "metadata": {},
     "output_type": "execute_result"
    }
   ],
   "source": [
    "makeArrays.justHeightmap('database/ML_DEM_merged.tif', 78.9, 12.0, 10.0, outDir=path_to_output)"
   ]
  },
  {
   "cell_type": "code",
   "execution_count": 11,
   "metadata": {},
   "outputs": [
    {
     "name": "stdout",
     "output_type": "stream",
     "text": [
      "Loading...\n",
      "Resampling to a cell size of 10.0\n",
      "New name: database/resampled\n",
      "Projecting to UTM coordinate system.\n",
      "New name: database/projected\n"
     ]
    }
   ],
   "source": [
    "# Method 3 - command line instruction (! is jupyter magic to indicate command line)\n",
    "! python -m declutter load database/ML_DEM_merged.tif 78.9 12.0 -c 10.0 -o database"
   ]
  },
  {
   "cell_type": "markdown",
   "metadata": {},
   "source": [
    "## Change radargram range/granularity\n",
    "\n",
    "Set the duration the radargram should listen for and how frequently to sample the response. Internally only the timestep and total number of steps are stored, although methods to work with distance are provided too. See the wiki for which commands overwrite others."
   ]
  },
  {
   "cell_type": "code",
   "execution_count": 12,
   "metadata": {},
   "outputs": [],
   "source": [
    "# Method 1\n",
    "from declutter.modelling import parameters\n",
    "parameters.setTimeStep(1e-8)\n",
    "parameters.setSpaceStep(1.5) # equivalent, ignoring floating point precision errors\n",
    "parameters.setSteps(700)"
   ]
  },
  {
   "cell_type": "code",
   "execution_count": 13,
   "metadata": {},
   "outputs": [
    {
     "name": "stdout",
     "output_type": "stream",
     "text": [
      "Settings: maxTime = 7.000000000000001e-06, dt = 8e-09, steps = 875\n"
     ]
    },
    {
     "data": {
      "text/plain": [
       "0"
      ]
     },
     "execution_count": 13,
     "metadata": {},
     "output_type": "execute_result"
    }
   ],
   "source": [
    "! python -m declutter config --maxdist 1050.0 --dx 1.2\n",
    "\n",
    "# to show the current settings\n",
    "! python -m declutter config --show\n",
    "\n",
    "parameters.loadParameters() # update with stored value"
   ]
  },
  {
   "cell_type": "markdown",
   "metadata": {},
   "source": [
    "## Directly display a radargram\n",
    "\n",
    "Having created 'maps.hdf5' in the previous step, it is now possible to generate a radargram from the path file 'sparsePath.gpx'.  \n",
    "Most of the time is spent generating the data to work with, and applying a model to this data is then fast by comparison. Therefore, if several changes to the model want to be tested, it is possible to store the data generated. Each change to models.py can then be compared much faster."
   ]
  },
  {
   "cell_type": "code",
   "execution_count": 2,
   "metadata": {},
   "outputs": [],
   "source": [
    "from declutter import fullModel, path, radar"
   ]
  },
  {
   "cell_type": "code",
   "execution_count": 3,
   "metadata": {},
   "outputs": [
    {
     "data": {
      "text/plain": [
       "'C:\\\\Users\\\\brecinos\\\\Documents\\\\ArcGIS\\\\radar-declutter\\\\docs\\\\demoData\\\\sparsePath.gpx'"
      ]
     },
     "execution_count": 3,
     "metadata": {},
     "output_type": "execute_result"
    }
   ],
   "source": [
    "path_to_demo = os.getcwd() + '\\\\demoData\\\\sparsePath.gpx'\n",
    "path_to_demo"
   ]
  },
  {
   "cell_type": "code",
   "execution_count": 4,
   "metadata": {},
   "outputs": [
    {
     "name": "stdout",
     "output_type": "stream",
     "text": [
      "Settings: maxTime = 7.000000000000001e-06, dt = 8e-09, steps = 875\n",
      "100% (39 of 39) |#############################################| Time: 1.0333333333333334:029\n"
     ]
    },
    {
     "data": {
      "image/png": "[encoded data removed]",
      "text/plain": [
       "<Figure size 1200x680 with 2 Axes>"
      ]
     },
     "metadata": {},
     "output_type": "display_data"
    }
   ],
   "source": [
    "# Method 1 - Data generated per point not saved, radargram not saved\n",
    "data = fullModel.processData(filename=path_to_demo, crop=[0, 0], outName='new_radargram')"
   ]
  },
  {
   "cell_type": "code",
   "execution_count": null,
   "metadata": {},
   "outputs": [],
   "source": [
    "# Method 2 - Data generated per point is saved, radargram saved\n",
    "if os.path.exists(\"demoData/points\"):\n",
    "    shutil.rmtree(\"demoData/points\")\n",
    "path.processData('demoData/sparsePath.gpx', outName = 'demoData/points')\n",
    "data = radar.radargram('demoData/points',save = 'demoData/figure')"
   ]
  },
  {
   "cell_type": "code",
   "execution_count": null,
   "metadata": {
    "scrolled": true
   },
   "outputs": [],
   "source": [
    "%%capture result # hides output of command, remove to show result.\n",
    "# Method 3 - Command line\n",
    "! python -m declutter model demoData/sparsePath.gpx -f -o demoData/points -s demoData/figure"
   ]
  },
  {
   "cell_type": "markdown",
   "metadata": {},
   "source": [
    "## Display a radargram from existing point files\n",
    "\n",
    "If the option was selected to store .hdf5 files for each point in the previous step ('demoData/points', created by methods 2 or 3), the radargram can now be quickly displayed."
   ]
  },
  {
   "cell_type": "code",
   "execution_count": null,
   "metadata": {},
   "outputs": [],
   "source": [
    "from declutter import radar\n",
    "# Method 1\n",
    "data = radar.radargram('demoData/points')"
   ]
  },
  {
   "cell_type": "code",
   "execution_count": null,
   "metadata": {},
   "outputs": [],
   "source": [
    "%%capture result # hides output of command, remove to show result.\n",
    "# Method 2\n",
    "!! python -m declutter display demoData/points"
   ]
  },
  {
   "cell_type": "markdown",
   "metadata": {},
   "source": [
    "## Compare the radargrams of slightly varying models\n",
    "\n",
    "The list of options to use is defined in the compare.py module, and the approach is similar for waves, backscatter or directivity models."
   ]
  },
  {
   "cell_type": "code",
   "execution_count": null,
   "metadata": {},
   "outputs": [],
   "source": [
    "from declutter import compare\n",
    "out = compare.compareBackscatter(\"demoData/points\")"
   ]
  },
  {
   "cell_type": "markdown",
   "metadata": {},
   "source": [
    "## Single point trace\n",
    "\n",
    "The output of the model for a single point can also be shown."
   ]
  },
  {
   "cell_type": "code",
   "execution_count": null,
   "metadata": {
    "scrolled": false
   },
   "outputs": [],
   "source": [
    "from declutter import radar\n",
    "from declutter.modelling import backscatter\n",
    "out = radar.wiggle('demoData/points/point30.hdf5')"
   ]
  },
  {
   "cell_type": "markdown",
   "metadata": {},
   "source": [
    "## Find cause of peaks\n",
    "\n",
    "The analysis model provides a 3D plot of the surrounds for a point and highlights the surfaces causing a response."
   ]
  },
  {
   "cell_type": "code",
   "execution_count": null,
   "metadata": {},
   "outputs": [],
   "source": [
    "from declutter import analysis\n",
    "analysis.markSurfaces(\"demoData/points/point30.hdf5\",2.5e-6,3e-6)\n",
    "analysis.markSurfaces(\"demoData/points/point30.hdf5\",4.5e-6,6e-6)"
   ]
  },
  {
   "cell_type": "markdown",
   "metadata": {},
   "source": [
    "## Command line help\n",
    "\n",
    "The cell below displays the help info for each of the command line options."
   ]
  },
  {
   "cell_type": "code",
   "execution_count": null,
   "metadata": {},
   "outputs": [],
   "source": [
    "divider = '\\n\\n'+'-'*80+'\\n\\n'\n",
    "! python -m declutter -h\n",
    "\n",
    "print divider\n",
    "\n",
    "! python -m declutter load -h\n",
    "\n",
    "print divider\n",
    "\n",
    "! python -m declutter model -h\n",
    "\n",
    "print divider\n",
    "\n",
    "! python -m declutter display -h\n",
    "\n",
    "print divider\n",
    "\n",
    "! python -m declutter config -h\n",
    "\n",
    "print divider\n",
    "\n",
    "! python -m declutter crop -h"
   ]
  }
 ],
 "metadata": {
  "kernelspec": {
   "display_name": "radartool",
   "language": "python",
   "name": "radartool"
  },
  "language_info": {
   "codemirror_mode": {
    "name": "ipython",
    "version": 3
   },
   "file_extension": ".py",
   "mimetype": "text/x-python",
   "name": "python",
   "nbconvert_exporter": "python",
   "pygments_lexer": "ipython3",
   "version": "3.9.16"
  }
 },
 "nbformat": 4,
 "nbformat_minor": 2
}
