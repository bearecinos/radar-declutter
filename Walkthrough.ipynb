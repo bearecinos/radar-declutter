{
 "cells": [
  {
   "cell_type": "markdown",
   "metadata": {},
   "source": [
    "# Contents\n",
    "### [Generate.py](#Generate.py)\n",
    "### [stateless.py](#stateless.py)\n",
    "### [path.py](#path.py)\n",
    "### [models.py](#models.py)"
   ]
  },
  {
   "cell_type": "markdown",
   "metadata": {},
   "source": [
    "## Introduction\n",
    "This notebook should explain the majority of what the different folders and python files in this directory do. The data and initial implementation were built off of arcpy/arcgis so some of these components still exist.\n",
    "\n",
    "'default.gdb' is a database holding the original 30m resolution heightmap and derived slope and aspect maps for the full area, about 60km x 60km. I believe 'info' is a folder used by arcmap, however none of the python files interact with it directly.\n",
    "\n",
    "For a similar reason, the arcmap profile \"generation.mxd\" still exists, allowing you to view the three initial maps if needed.\n",
    "\n",
    "Some error detection has been added for the most likely errors with files missing etc. which should help identify the cause of some issues.\n"
   ]
  },
  {
   "cell_type": "markdown",
   "metadata": {},
   "source": [
    "### Generate.py <a name=\"Generate.py\"></a>"
   ]
  },
  {
   "cell_type": "markdown",
   "metadata": {},
   "source": [
    "Generate.py is the only python file still using arcpy, however it should only be needed if the area being surveyed changes. Although it has methods with fairly self-descriptive names to generate the necessary data, its main purpose is being able to generate numpy representations of maps for faster use by other programs. \n",
    "\n",
    "Assuming the height,slope and aspect maps have been placed in default.gdb with the names \"srtm30_dem_utm45n_crop\", \"Slope_srtm\" and \"Aspect_srtm\" respectively (these are hardcoded in but should be easy to change in the Setup method), this is done as follows:"
   ]
  },
  {
   "cell_type": "code",
   "execution_count": null,
   "metadata": {},
   "outputs": [],
   "source": [
    "import Generate\n",
    "Generate.storeRasters()"
   ]
  },
  {
   "cell_type": "markdown",
   "metadata": {},
   "source": [
    "## stateless.py <a name=\"stateless.py\"></a>\n",
    "\n",
    "This creates the arrays needed to calculate the radar response for a single point. It assumes the info.txt and maps.npz files mentioned previously exist in the same directory."
   ]
  },
  {
   "cell_type": "code",
   "execution_count": null,
   "metadata": {},
   "outputs": [],
   "source": [
    "import stateless\n",
    "stateless.Setup() # loads data from info.txt and maps.npz\n",
    "x,y = 469900.0, 3095000.0\n",
    "stateless.generateMaps(x,y,\"demoPoint\")"
   ]
  },
  {
   "cell_type": "markdown",
   "metadata": {},
   "source": [
    "These are the only methods that should be called from outside the class. The full signature of generateMaps:\n",
    "\n",
    "generateMaps(x, y, path, above_ground=100.0, isOffset = True, antennaDir = None)\n",
    "\n",
    "'path' is the directory to save the data in. 'above_ground' specifies the elevation of the radar and 'isOffset' indicates that this is relative to the ground. 'antennaDir' can take an angle to also generate the angle from the surface to the direction the antenna was facing for each point of the surface."
   ]
  },
  {
   "cell_type": "markdown",
   "metadata": {},
   "source": [
    "## path.py <a name=\"path.py\"></a>\n",
    "\n",
    "This will call stateless.py for each point specified by a data file containing the path of the radar. Note, the directory name passed will have 1 subdirectory created per point, no other files or directories should be created within this directory else other methods will attempt to read non-data files as if they were data.\n",
    "\n",
    "'loadFromFile(filename, outName=None)' takes a custom file format specified in the python file.\n",
    "\n",
    "'loadGpx(filename, outName=None)' uses data specified in the gpx xml format. If not specified, this will use the name specified in xml as the output folder name and the filename if this also does not exist."
   ]
  },
  {
   "cell_type": "code",
   "execution_count": null,
   "metadata": {},
   "outputs": [],
   "source": [
    "import path\n",
    "path.loadGpx(\"demoPath\")"
   ]
  },
  {
   "cell_type": "markdown",
   "metadata": {},
   "source": [
    "## models.py <a name=\"models.py\"></a>\n",
    "\n",
    "This generates a plot of the response for either a single point or a series of points. At time of writing, the best model to use is unknown so there are various options for plotting with different models of the response from each surface."
   ]
  },
  {
   "cell_type": "code",
   "execution_count": null,
   "metadata": {},
   "outputs": [],
   "source": [
    "import models\n",
    "models.models = [models.lambertian, models.raySpecular, lambda x : models.Minnaert(x,2)]\n",
    "models.titles = [\"diffuse\", \"specular\", \"Minnaert (k=2)\"]\n",
    "models.compare(\"demoPath\") # plots a radargram for each model specified in models.models on a single figure\n",
    "\n",
    "models.wiggle(\"demoPoint\")\n",
    "models.manyWiggle(\"demoSparsePath\")"
   ]
  },
  {
   "cell_type": "markdown",
   "metadata": {},
   "source": [
    "The optional arguments allow the wave being modelled, the surface interactions, or how slices in radargrams are aligned to all be altered. All methods currently apply a bandpass filter but this does not have any options to adjust the ranges filtered without setting them in the code."
   ]
  },
  {
   "cell_type": "code",
   "execution_count": null,
   "metadata": {},
   "outputs": [],
   "source": [
    "compare(name,adjusted=False,wave=GaussianDot())\n",
    "\n",
    "wiggle(name, intensityModel=raySpecular, wave=GaussianDot())\n",
    "\n",
    "manyWiggle(name, adjusted=False, intensityModel=raySpecular, wave=GaussianDot())"
   ]
  },
  {
   "cell_type": "markdown",
   "metadata": {},
   "source": [
    "'name' is the directory data is stored in. \n",
    "\n",
    "'adjusted' indicates that points with equal elevation should be aligned i.e. For a radar path of changing elevation over a level surface, the radargram would still be a flat line.\n",
    "\n",
    "'intensityModel' is the class within models.py to use to model the response from each surface.\n",
    "\n",
    "'wave' is the waveform to convolve over the responses to produce a radargram or wiggle plot."
   ]
  }
 ],
 "metadata": {
  "kernelspec": {
   "display_name": "Python 2",
   "language": "python",
   "name": "python2"
  },
  "language_info": {
   "codemirror_mode": {
    "name": "ipython",
    "version": 2
   },
   "file_extension": ".py",
   "mimetype": "text/x-python",
   "name": "python",
   "nbconvert_exporter": "python",
   "pygments_lexer": "ipython2",
   "version": "2.7.14"
  }
 },
 "nbformat": 4,
 "nbformat_minor": 2
}
